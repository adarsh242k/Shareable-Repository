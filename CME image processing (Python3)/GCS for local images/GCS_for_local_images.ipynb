{
 "cells": [
  {
   "cell_type": "markdown",
   "id": "f0e34e03",
   "metadata": {},
   "source": [
    "(Still under development)"
   ]
  },
  {
   "cell_type": "markdown",
   "id": "1cd172a4",
   "metadata": {},
   "source": [
    "Please provide date, time and address of the FITS file in respective places."
   ]
  },
  {
   "cell_type": "markdown",
   "id": "e84fa1b6",
   "metadata": {},
   "source": [
    "Format -\n",
    "\n",
    "dt.datetime(year, month, day, hour, minute, second, microsecond)"
   ]
  },
  {
   "cell_type": "markdown",
   "id": "9b72649a",
   "metadata": {},
   "source": [
    "(hour, minute, second, microsecond) are set to default = 0"
   ]
  },
  {
   "cell_type": "markdown",
   "id": "bf7872cf",
   "metadata": {},
   "source": [
    "NOTE: A copy of the below cell can be made to work simultaneously on different images"
   ]
  },
  {
   "cell_type": "code",
   "execution_count": 1,
   "id": "34acbaf7",
   "metadata": {},
   "outputs": [
    {
     "data": {
      "application/vnd.jupyter.widget-view+json": {
       "model_id": "8b4e5aeb4d5e4d899541a754cd10bdd0",
       "version_major": 2,
       "version_minor": 0
      },
      "text/plain": [
       "interactive(children=(FloatSlider(value=50.0, description='half_angle', max=90.0), FloatSlider(value=8.79, des…"
      ]
     },
     "metadata": {},
     "output_type": "display_data"
    },
    {
     "data": {
      "text/plain": [
       "<function __main__.plot_func(half_angle, height, kappa, lat, lon, tilt)>"
      ]
     },
     "execution_count": 1,
     "metadata": {},
     "output_type": "execute_result"
    }
   ],
   "source": [
    "from sunpy.map import Map\n",
    "from sunpy.net import helioviewer\n",
    "\n",
    "from gcs.geometry import gcs_mesh_sunpy\n",
    "import numpy as np\n",
    "import datetime as dt\n",
    "import matplotlib.pyplot as plt\n",
    "\n",
    "from ipywidgets import interact, interactive, fixed, interact_manual\n",
    "import ipywidgets as widgets\n",
    "%matplotlib inline\n",
    "\n",
    "\n",
    "\n",
    "# half_angle = 50\n",
    "# height = 8.79\n",
    "# kappa = 0.26\n",
    "# lat = np.radians(-1)\n",
    "# lon = np.radians(0)\n",
    "# tilt = np.radians(5)\n",
    "\n",
    "\n",
    "\n",
    "\n",
    "\n",
    "date = dt.datetime(2008, 12, 12, 0, 7)\n",
    "\n",
    "file_address = '/home/iiser/Desktop/AKD/CME_project/20081212/20081212_d4c2B/20081212_035254_d4c2B.fts'\n",
    "\n",
    "\n",
    "\n",
    "def plot_func(half_angle, height, kappa, lat, lon, tilt):\n",
    "    mesh = gcs_mesh_sunpy(date, half_angle, height, 20, 20, 20, kappa, np.radians(lat), np.radians(lon), np.radians(tilt)) #(date, alpha, height, straight_vertices, front_vertices, circle_vertices, k, lat, lon, tilt)\n",
    "    \n",
    "    f = file_address\n",
    "    map = Map(f)\n",
    "\n",
    "    # plot image\n",
    "    plt.rcParams['figure.figsize'] = [9, 9]\n",
    "    fig = plt.figure()\n",
    "    ax = plt.subplot(projection=map)\n",
    "\n",
    "    map.plot(cmap='Greys_r')\n",
    "\n",
    "    # plot mesh\n",
    "    ax.plot_coord(mesh, '.', ms=3)\n",
    "    plt.show()\n",
    "    \n",
    "    \n",
    "\n",
    "# Interactive sliders    \n",
    "interact(plot_func, half_angle = widgets.FloatSlider(value=50, min=0, max=90.0, step=0.1),\n",
    "                    height = widgets.FloatSlider(value=8.79, min=0, max=25.0, step=0.01),\n",
    "                    kappa = widgets.FloatSlider(value=0.26, min=0, max=1.0, step=0.01),\n",
    "                    lat = widgets.FloatSlider(value=7.5, min=-90.0, max=90.0, step=0.01),\n",
    "                    lon = widgets.FloatSlider(value=7.5, min=-90.0, max=90.0, step=0.01),\n",
    "                    tilt = widgets.FloatSlider(value=7.5, min=-90.0, max=90.0, step=0.01),)\n",
    "\n",
    "\n",
    "\n",
    "\n",
    "\n",
    "\n"
   ]
  },
  {
   "cell_type": "code",
   "execution_count": null,
   "id": "b8d765a7",
   "metadata": {},
   "outputs": [],
   "source": []
  }
 ],
 "metadata": {
  "kernelspec": {
   "display_name": "Python 3 (ipykernel)",
   "language": "python",
   "name": "python3"
  },
  "language_info": {
   "codemirror_mode": {
    "name": "ipython",
    "version": 3
   },
   "file_extension": ".py",
   "mimetype": "text/x-python",
   "name": "python",
   "nbconvert_exporter": "python",
   "pygments_lexer": "ipython3",
   "version": "3.8.10"
  }
 },
 "nbformat": 4,
 "nbformat_minor": 5
}
