{
 "cells": [
  {
   "cell_type": "markdown",
   "metadata": {},
   "source": [
    "# Code on Hermite polynomial"
   ]
  },
  {
   "cell_type": "code",
   "execution_count": 1,
   "metadata": {},
   "outputs": [],
   "source": [
    "import numpy as np\n",
    "import matplotlib.pyplot as plt\n",
    "import math\n",
    "from scipy.special import genlaguerre\n",
    "import cmath\n"
   ]
  },
  {
   "cell_type": "code",
   "execution_count": 2,
   "metadata": {},
   "outputs": [
    {
     "name": "stdout",
     "output_type": "stream",
     "text": [
      "Enter the value of m and n:\n",
      "6\n",
      "0\n"
     ]
    }
   ],
   "source": [
    "print(\"Enter the value of m and n:\")\n",
    "n=int(input())\n",
    "m=int(input())\n"
   ]
  },
  {
   "cell_type": "code",
   "execution_count": 3,
   "metadata": {},
   "outputs": [],
   "source": [
    "def chif(r,theta):\n",
    "    beta=4\n",
    "    z=complex(math.cos(m*theta),-math.sin(m*theta))\n",
    "    a=int((n-abs(m))/2)\n",
    "    b=int((n+abs(m))/2)\n",
    "    chi1=(math.pow(-1,a))/(math.pow(beta,abs(m)+1))\n",
    "    chi2= math.sqrt(math.factorial(a)/ (np.pi * math.factorial(b)))\n",
    "    chi3= math.pow(r,abs(m))  * math.exp((math.pow(-r,2))/(2 * math.pow(beta,2))) * z\n",
    "    chi4= genlaguerre(a,abs(m))(math.pow(r,2)/math.pow(beta,2))\n",
    "    chi= chi1*chi2*chi3*chi4\n",
    "    return chi\n"
   ]
  },
  {
   "cell_type": "code",
   "execution_count": 4,
   "metadata": {},
   "outputs": [],
   "source": [
    "r= np.linspace(0,1,100)\n",
    "theta= np.linspace(0, 2*(np.pi),100)\n",
    "\n"
   ]
  },
  {
   "cell_type": "code",
   "execution_count": 11,
   "metadata": {},
   "outputs": [],
   "source": [
    "R, THETA = np.meshgrid(r, theta)"
   ]
  },
  {
   "cell_type": "code",
   "execution_count": null,
   "metadata": {},
   "outputs": [],
   "source": []
  },
  {
   "cell_type": "code",
   "execution_count": 12,
   "metadata": {},
   "outputs": [],
   "source": [
    "f2 = np.vectorize(chif)"
   ]
  },
  {
   "cell_type": "code",
   "execution_count": 13,
   "metadata": {},
   "outputs": [],
   "source": [
    "Z= f2(R, THETA)"
   ]
  },
  {
   "cell_type": "code",
   "execution_count": null,
   "metadata": {},
   "outputs": [],
   "source": []
  },
  {
   "cell_type": "code",
   "execution_count": 14,
   "metadata": {},
   "outputs": [
    {
     "data": {
      "text/plain": [
       "array([[-0.1410474 +0.j, -0.14104515+0.j, -0.1410384 +0.j, ...,\n",
       "        -0.11996073+0.j, -0.11952536+0.j, -0.1190856 +0.j],\n",
       "       [-0.1410474 +0.j, -0.14104515+0.j, -0.1410384 +0.j, ...,\n",
       "        -0.11996073+0.j, -0.11952536+0.j, -0.1190856 +0.j],\n",
       "       [-0.1410474 +0.j, -0.14104515+0.j, -0.1410384 +0.j, ...,\n",
       "        -0.11996073+0.j, -0.11952536+0.j, -0.1190856 +0.j],\n",
       "       ...,\n",
       "       [-0.1410474 +0.j, -0.14104515+0.j, -0.1410384 +0.j, ...,\n",
       "        -0.11996073+0.j, -0.11952536+0.j, -0.1190856 +0.j],\n",
       "       [-0.1410474 +0.j, -0.14104515+0.j, -0.1410384 +0.j, ...,\n",
       "        -0.11996073+0.j, -0.11952536+0.j, -0.1190856 +0.j],\n",
       "       [-0.1410474 +0.j, -0.14104515+0.j, -0.1410384 +0.j, ...,\n",
       "        -0.11996073+0.j, -0.11952536+0.j, -0.1190856 +0.j]])"
      ]
     },
     "execution_count": 14,
     "metadata": {},
     "output_type": "execute_result"
    }
   ],
   "source": [
    "Z"
   ]
  },
  {
   "cell_type": "code",
   "execution_count": 15,
   "metadata": {},
   "outputs": [
    {
     "data": {
      "text/plain": [
       "array([[-0.1410474 , -0.14104515, -0.1410384 , ..., -0.11996073,\n",
       "        -0.11952536, -0.1190856 ],\n",
       "       [-0.1410474 , -0.14104515, -0.1410384 , ..., -0.11996073,\n",
       "        -0.11952536, -0.1190856 ],\n",
       "       [-0.1410474 , -0.14104515, -0.1410384 , ..., -0.11996073,\n",
       "        -0.11952536, -0.1190856 ],\n",
       "       ...,\n",
       "       [-0.1410474 , -0.14104515, -0.1410384 , ..., -0.11996073,\n",
       "        -0.11952536, -0.1190856 ],\n",
       "       [-0.1410474 , -0.14104515, -0.1410384 , ..., -0.11996073,\n",
       "        -0.11952536, -0.1190856 ],\n",
       "       [-0.1410474 , -0.14104515, -0.1410384 , ..., -0.11996073,\n",
       "        -0.11952536, -0.1190856 ]])"
      ]
     },
     "execution_count": 15,
     "metadata": {},
     "output_type": "execute_result"
    }
   ],
   "source": [
    "real_Z = Z.real\n",
    "real_Z"
   ]
  },
  {
   "cell_type": "code",
   "execution_count": null,
   "metadata": {},
   "outputs": [],
   "source": []
  },
  {
   "cell_type": "code",
   "execution_count": null,
   "metadata": {},
   "outputs": [],
   "source": []
  },
  {
   "cell_type": "markdown",
   "metadata": {},
   "source": [
    "# Code - polar & cartesian"
   ]
  },
  {
   "cell_type": "code",
   "execution_count": 1,
   "metadata": {},
   "outputs": [],
   "source": [
    "import numpy as np\n",
    "import matplotlib.pyplot as plt\n",
    "from numpy import exp, abs, angle\n",
    "import math\n",
    "from scipy.special import genlaguerre\n",
    "import cmath"
   ]
  },
  {
   "cell_type": "code",
   "execution_count": null,
   "metadata": {},
   "outputs": [],
   "source": []
  },
  {
   "cell_type": "code",
   "execution_count": 2,
   "metadata": {},
   "outputs": [],
   "source": [
    "a = np.array([[1, 2, 3],[4, 5, 6], [7, 8, 9]])"
   ]
  },
  {
   "cell_type": "code",
   "execution_count": 3,
   "metadata": {},
   "outputs": [
    {
     "data": {
      "text/plain": [
       "<matplotlib.colorbar.Colorbar at 0x26c6b840220>"
      ]
     },
     "execution_count": 3,
     "metadata": {},
     "output_type": "execute_result"
    },
    {
     "data": {
      "image/png": "[encoded data removed]",
      "text/plain": [
       "<Figure size 432x288 with 2 Axes>"
      ]
     },
     "metadata": {
      "needs_background": "light"
     },
     "output_type": "display_data"
    }
   ],
   "source": [
    "plt.imshow(a, cmap ='jet')\n",
    "plt.colorbar()"
   ]
  },
  {
   "cell_type": "code",
   "execution_count": 11,
   "metadata": {},
   "outputs": [],
   "source": [
    "a_fl = np.flip(a, 1)"
   ]
  },
  {
   "cell_type": "code",
   "execution_count": 12,
   "metadata": {},
   "outputs": [
    {
     "data": {
      "text/plain": [
       "<matplotlib.colorbar.Colorbar at 0x26c6bcad2b0>"
      ]
     },
     "execution_count": 12,
     "metadata": {},
     "output_type": "execute_result"
    },
    {
     "data": {
      "image/png": "[encoded data removed]",
      "text/plain": [
       "<Figure size 432x288 with 2 Axes>"
      ]
     },
     "metadata": {
      "needs_background": "light"
     },
     "output_type": "display_data"
    }
   ],
   "source": [
    "plt.imshow(a_fl, cmap ='jet')\n",
    "plt.colorbar()"
   ]
  },
  {
   "cell_type": "code",
   "execution_count": null,
   "metadata": {},
   "outputs": [],
   "source": []
  },
  {
   "cell_type": "code",
   "execution_count": null,
   "metadata": {},
   "outputs": [],
   "source": []
  },
  {
   "cell_type": "code",
   "execution_count": 65,
   "metadata": {},
   "outputs": [],
   "source": [
    "# Written for square images with odd pixel length and breadth for trial\n",
    "# This function will return value at position taking centre of image as origin\n",
    "\n",
    "def val_at_pos(image, x,y):\n",
    "    dim_x, dim_y = image.shape\n",
    "    mid = int((dim_x-1)/2)\n",
    "    X=mid-y\n",
    "    Y=x+mid\n",
    "    return image[X][Y]"
   ]
  },
  {
   "cell_type": "code",
   "execution_count": 75,
   "metadata": {},
   "outputs": [
    {
     "data": {
      "text/plain": [
       "9"
      ]
     },
     "execution_count": 75,
     "metadata": {},
     "output_type": "execute_result"
    }
   ],
   "source": [
    "val_at_pos(a,1,-1) # input is cartesian (x,y)"
   ]
  },
  {
   "cell_type": "code",
   "execution_count": null,
   "metadata": {},
   "outputs": [],
   "source": []
  },
  {
   "cell_type": "markdown",
   "metadata": {},
   "source": [
    "###### Trying to take (r, theta) values now"
   ]
  },
  {
   "cell_type": "code",
   "execution_count": 76,
   "metadata": {},
   "outputs": [],
   "source": [
    "# For any given value of (r,theta) this gives (x,y) coordinates\n",
    "\n",
    "def pol2car(r_, theta_):\n",
    "    X = np.round(r_*np.cos(theta_)).astype(int)\n",
    "    Y = np.round(r_*np.sin(theta_)).astype(int)\n",
    "    return(X,Y)"
   ]
  },
  {
   "cell_type": "code",
   "execution_count": 88,
   "metadata": {},
   "outputs": [
    {
     "data": {
      "text/plain": [
       "(1, 1)"
      ]
     },
     "execution_count": 88,
     "metadata": {},
     "output_type": "execute_result"
    }
   ],
   "source": [
    "pol2car(1,np.pi/4)"
   ]
  },
  {
   "cell_type": "code",
   "execution_count": null,
   "metadata": {},
   "outputs": [],
   "source": []
  },
  {
   "cell_type": "markdown",
   "metadata": {},
   "source": [
    "#### f(r, theta)"
   ]
  },
  {
   "cell_type": "code",
   "execution_count": 89,
   "metadata": {},
   "outputs": [],
   "source": [
    "# This gives pixel values for a given (r, theta) value taking image centre as the origin \n",
    "\n",
    "def f_r_theta (image_, r_, theta_):\n",
    "    (x_, y_) = pol2car(r_, theta_)\n",
    "    pix_val = val_at_pos(image_, x_,y_)\n",
    "    return pix_val"
   ]
  },
  {
   "cell_type": "code",
   "execution_count": 97,
   "metadata": {},
   "outputs": [
    {
     "data": {
      "text/plain": [
       "3"
      ]
     },
     "execution_count": 97,
     "metadata": {},
     "output_type": "execute_result"
    }
   ],
   "source": [
    "f_r_theta(a, 1, np.pi/4)"
   ]
  },
  {
   "cell_type": "code",
   "execution_count": null,
   "metadata": {},
   "outputs": [],
   "source": []
  },
  {
   "cell_type": "markdown",
   "metadata": {},
   "source": [
    "#### Constructing f(r, theta) array"
   ]
  },
  {
   "cell_type": "code",
   "execution_count": null,
   "metadata": {},
   "outputs": [],
   "source": []
  },
  {
   "cell_type": "code",
   "execution_count": 121,
   "metadata": {},
   "outputs": [
    {
     "name": "stdout",
     "output_type": "stream",
     "text": [
      "Enter r-range from 0 to 1\n",
      "Enter no. of points in r: 99\n",
      "Enter no. of points in theta: 99\n"
     ]
    }
   ],
   "source": [
    "r_max = float(input(\"Enter r-range from 0 to \"))\n",
    "r_points = int(input(\"Enter no. of points in r: \"))\n",
    "theta_max = 2*np.pi\n",
    "theta_points = int(input(\"Enter no. of points in theta: \"))"
   ]
  },
  {
   "cell_type": "code",
   "execution_count": 122,
   "metadata": {},
   "outputs": [],
   "source": [
    "r= np.linspace(0,r_max,r_points)\n",
    "theta= np.linspace(0, theta_max,theta_points)"
   ]
  },
  {
   "cell_type": "code",
   "execution_count": 131,
   "metadata": {},
   "outputs": [],
   "source": [
    "image_pol_arr = np.zeros((len(r), len(r)))"
   ]
  },
  {
   "cell_type": "code",
   "execution_count": 134,
   "metadata": {},
   "outputs": [
    {
     "data": {
      "text/plain": [
       "(99, 99)"
      ]
     },
     "execution_count": 134,
     "metadata": {},
     "output_type": "execute_result"
    }
   ],
   "source": [
    "image_pol_arr.shape"
   ]
  },
  {
   "cell_type": "code",
   "execution_count": 146,
   "metadata": {},
   "outputs": [],
   "source": [
    "my_image = a\n",
    "\n",
    "array_dir_r = 0\n",
    "array_dir_theta = 0\n",
    "\n",
    "for array_dir_theta in range(0, len(theta)):\n",
    "    for array_dir_r in range(0, len(r)):\n",
    "        image_pol_arr [array_dir_r][array_dir_theta] = f_r_theta(my_image, r[array_dir_r], theta[array_dir_theta])\n"
   ]
  },
  {
   "cell_type": "code",
   "execution_count": 151,
   "metadata": {},
   "outputs": [
    {
     "name": "stderr",
     "output_type": "stream",
     "text": [
      "<ipython-input-151-0f555eb2f3cb>:2: MatplotlibDeprecationWarning: shading='flat' when X and Y have the same dimensions as C is deprecated since 3.3.  Either specify the corners of the quadrilaterals with X and Y, or pass shading='auto', 'nearest' or 'gouraud', or set rcParams['pcolor.shading'].  This will become an error two minor releases later.\n",
      "  pcm0 = ax.pcolormesh(theta, r, image_pol_arr, cmap = 'jet')#, vmin = -0.001, vmax = 0.001)\n"
     ]
    },
    {
     "data": {
      "text/plain": [
       "<matplotlib.colorbar.Colorbar at 0x1c99cc26e50>"
      ]
     },
     "execution_count": 151,
     "metadata": {},
     "output_type": "execute_result"
    },
    {
     "data": {
      "image/png": "[encoded data removed]",
      "text/plain": [
       "<Figure size 1944x720 with 2 Axes>"
      ]
     },
     "metadata": {
      "needs_background": "light"
     },
     "output_type": "display_data"
    }
   ],
   "source": [
    "fig, ax = plt.subplots(1, 1, figsize = (27,10), subplot_kw = {'projection': 'polar'})\n",
    "pcm0 = ax.pcolormesh(theta, r, image_pol_arr, cmap = 'jet')#, vmin = -0.001, vmax = 0.001) \n",
    "\n",
    "fig.colorbar(pcm0, ax = ax)"
   ]
  },
  {
   "cell_type": "code",
   "execution_count": null,
   "metadata": {},
   "outputs": [],
   "source": []
  },
  {
   "cell_type": "code",
   "execution_count": null,
   "metadata": {},
   "outputs": [],
   "source": []
  },
  {
   "cell_type": "code",
   "execution_count": null,
   "metadata": {},
   "outputs": [],
   "source": []
  }
 ],
 "metadata": {
  "kernelspec": {
   "display_name": "Python 3",
   "language": "python",
   "name": "python3"
  },
  "language_info": {
   "codemirror_mode": {
    "name": "ipython",
    "version": 3
   },
   "file_extension": ".py",
   "mimetype": "text/x-python",
   "name": "python",
   "nbconvert_exporter": "python",
   "pygments_lexer": "ipython3",
   "version": "3.9.0"
  }
 },
 "nbformat": 4,
 "nbformat_minor": 4
}
