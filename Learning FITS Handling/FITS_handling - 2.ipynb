{
 "cells": [
  {
   "cell_type": "markdown",
   "metadata": {},
   "source": [
    "# Analysis on Hz4 Galex FUV"
   ]
  },
  {
   "cell_type": "code",
   "execution_count": 1,
   "metadata": {},
   "outputs": [],
   "source": [
    "import numpy as np\n",
    "import matplotlib.pyplot as plt\n",
    "from scipy import ndimage"
   ]
  },
  {
   "cell_type": "code",
   "execution_count": 2,
   "metadata": {},
   "outputs": [],
   "source": [
    "from astropy.io import fits"
   ]
  },
  {
   "cell_type": "code",
   "execution_count": 3,
   "metadata": {},
   "outputs": [],
   "source": [
    "hdul = fits.open(\"G:/NAXATRA/UVIT_IUCAA_2020/hz4_galex_chopped_fuv.fits\")"
   ]
  },
  {
   "cell_type": "code",
   "execution_count": 4,
   "metadata": {},
   "outputs": [
    {
     "name": "stdout",
     "output_type": "stream",
     "text": [
      "Filename: G:/NAXATRA/UVIT_IUCAA_2020/hz4_galex_chopped_fuv.fits\n",
      "No.    Name      Ver    Type      Cards   Dimensions   Format\n",
      "  0  PRIMARY       1 PrimaryHDU      19   (740, 472)   float32   \n"
     ]
    }
   ],
   "source": [
    "hdul.info()"
   ]
  },
  {
   "cell_type": "code",
   "execution_count": 5,
   "metadata": {},
   "outputs": [],
   "source": [
    "data = hdul[0].data"
   ]
  },
  {
   "cell_type": "code",
   "execution_count": 6,
   "metadata": {},
   "outputs": [
    {
     "data": {
      "text/plain": [
       "(472, 740)"
      ]
     },
     "execution_count": 6,
     "metadata": {},
     "output_type": "execute_result"
    }
   ],
   "source": [
    "data.shape"
   ]
  },
  {
   "cell_type": "code",
   "execution_count": 7,
   "metadata": {},
   "outputs": [
    {
     "data": {
      "text/plain": [
       "0.0017092935"
      ]
     },
     "execution_count": 7,
     "metadata": {},
     "output_type": "execute_result"
    }
   ],
   "source": [
    "data[158][200]       #xleft"
   ]
  },
  {
   "cell_type": "code",
   "execution_count": 8,
   "metadata": {},
   "outputs": [
    {
     "data": {
      "text/plain": [
       "0.0012918746"
      ]
     },
     "execution_count": 8,
     "metadata": {},
     "output_type": "execute_result"
    }
   ],
   "source": [
    "data[469][200]       #xright"
   ]
  },
  {
   "cell_type": "code",
   "execution_count": 9,
   "metadata": {},
   "outputs": [
    {
     "data": {
      "text/plain": [
       "0.0"
      ]
     },
     "execution_count": 9,
     "metadata": {},
     "output_type": "execute_result"
    }
   ],
   "source": [
    "data[200][84]       #ytop"
   ]
  },
  {
   "cell_type": "code",
   "execution_count": 10,
   "metadata": {},
   "outputs": [
    {
     "data": {
      "text/plain": [
       "0.0014519535"
      ]
     },
     "execution_count": 10,
     "metadata": {},
     "output_type": "execute_result"
    }
   ],
   "source": [
    "data[200][454]       #ybottom"
   ]
  },
  {
   "cell_type": "code",
   "execution_count": 11,
   "metadata": {},
   "outputs": [],
   "source": [
    "set_a = (158,84)"
   ]
  },
  {
   "cell_type": "code",
   "execution_count": 12,
   "metadata": {},
   "outputs": [],
   "source": [
    "short = data[158:469, 84:454]"
   ]
  },
  {
   "cell_type": "code",
   "execution_count": 13,
   "metadata": {},
   "outputs": [
    {
     "name": "stdout",
     "output_type": "stream",
     "text": [
      "[[0.         0.         0.         ... 0.00132532 0.001148   0.00132392]\n",
      " [0.         0.         0.         ... 0.00145811 0.00128069 0.00141243]\n",
      " [0.         0.         0.         ... 0.0012816  0.00154594 0.00119216]\n",
      " ...\n",
      " [0.00118048 0.00139293 0.00110159 ... 0.00126753 0.00130956 0.00147854]\n",
      " [0.00156535 0.00075557 0.00121714 ... 0.001605   0.00084474 0.001605  ]\n",
      " [0.00142839 0.00187993 0.00108985 ... 0.00177365 0.00147779 0.00126689]]\n"
     ]
    }
   ],
   "source": [
    "print(short)"
   ]
  },
  {
   "cell_type": "code",
   "execution_count": 14,
   "metadata": {},
   "outputs": [],
   "source": [
    "# test_arr = data[310:323, 260:273]"
   ]
  },
  {
   "cell_type": "code",
   "execution_count": 15,
   "metadata": {},
   "outputs": [],
   "source": [
    "# short = test_arr"
   ]
  },
  {
   "cell_type": "code",
   "execution_count": 16,
   "metadata": {},
   "outputs": [
    {
     "data": {
      "text/plain": [
       "(311, 370)"
      ]
     },
     "execution_count": 16,
     "metadata": {},
     "output_type": "execute_result"
    }
   ],
   "source": [
    "short.shape"
   ]
  },
  {
   "cell_type": "code",
   "execution_count": 17,
   "metadata": {},
   "outputs": [
    {
     "data": {
      "text/plain": [
       "array([[0.        , 0.        , 0.        , ..., 0.00132532, 0.001148  ,\n",
       "        0.00132392],\n",
       "       [0.        , 0.        , 0.        , ..., 0.00145811, 0.00128069,\n",
       "        0.00141243],\n",
       "       [0.        , 0.        , 0.        , ..., 0.0012816 , 0.00154594,\n",
       "        0.00119216],\n",
       "       ...,\n",
       "       [0.00118048, 0.00139293, 0.00110159, ..., 0.00126753, 0.00130956,\n",
       "        0.00147854],\n",
       "       [0.00156535, 0.00075557, 0.00121714, ..., 0.001605  , 0.00084474,\n",
       "        0.001605  ],\n",
       "       [0.00142839, 0.00187993, 0.00108985, ..., 0.00177365, 0.00147779,\n",
       "        0.00126689]], dtype=float32)"
      ]
     },
     "execution_count": 17,
     "metadata": {},
     "output_type": "execute_result"
    }
   ],
   "source": [
    "short"
   ]
  },
  {
   "cell_type": "code",
   "execution_count": 18,
   "metadata": {},
   "outputs": [
    {
     "data": {
      "text/plain": [
       "0.001752578"
      ]
     },
     "execution_count": 18,
     "metadata": {},
     "output_type": "execute_result"
    }
   ],
   "source": [
    "np.mean(short)"
   ]
  },
  {
   "cell_type": "code",
   "execution_count": 19,
   "metadata": {},
   "outputs": [
    {
     "data": {
      "text/plain": [
       "0.022472914"
      ]
     },
     "execution_count": 19,
     "metadata": {},
     "output_type": "execute_result"
    }
   ],
   "source": [
    "np.std(short)"
   ]
  },
  {
   "cell_type": "code",
   "execution_count": 20,
   "metadata": {},
   "outputs": [
    {
     "name": "stdout",
     "output_type": "stream",
     "text": [
      "[0.         0.         0.         ... 0.00177365 0.00147779 0.00126689]\n"
     ]
    }
   ],
   "source": [
    "#making a 1D array of the short array\n",
    "short_line_pre = short.flatten()\n",
    "\n",
    "print (short_line_pre)"
   ]
  },
  {
   "cell_type": "code",
   "execution_count": 21,
   "metadata": {},
   "outputs": [
    {
     "name": "stdout",
     "output_type": "stream",
     "text": [
      "[0.0011935  0.00115025 0.00138754 ... 0.00177365 0.00147779 0.00126689]\n"
     ]
    }
   ],
   "source": [
    "#remove the 0 values because of some error in the image \n",
    "short_line = short_line_pre[short_line_pre>0]\n",
    "\n",
    "print(short_line)"
   ]
  },
  {
   "cell_type": "code",
   "execution_count": 22,
   "metadata": {},
   "outputs": [
    {
     "name": "stdout",
     "output_type": "stream",
     "text": [
      "0.0019138419\n"
     ]
    }
   ],
   "source": [
    "mn = np.mean(short_line)\n",
    "print(mn)"
   ]
  },
  {
   "cell_type": "code",
   "execution_count": 23,
   "metadata": {},
   "outputs": [
    {
     "name": "stdout",
     "output_type": "stream",
     "text": [
      "0.02347752\n"
     ]
    }
   ],
   "source": [
    "std = np.std(short_line)\n",
    "print(std)"
   ]
  },
  {
   "cell_type": "markdown",
   "metadata": {},
   "source": [
    "Edit from here"
   ]
  },
  {
   "cell_type": "code",
   "execution_count": 55,
   "metadata": {},
   "outputs": [
    {
     "name": "stdout",
     "output_type": "stream",
     "text": [
      "0.0022991271689534187\n"
     ]
    }
   ],
   "source": [
    "#thres = mn + 3*std     #for 1*std the results were good as compared to 13*13 array observation\n",
    "print(thres)"
   ]
  },
  {
   "cell_type": "code",
   "execution_count": 56,
   "metadata": {},
   "outputs": [
    {
     "data": {
      "text/plain": [
       "(105374,)"
      ]
     },
     "execution_count": 56,
     "metadata": {},
     "output_type": "execute_result"
    }
   ],
   "source": [
    "short_line.shape"
   ]
  },
  {
   "cell_type": "code",
   "execution_count": 57,
   "metadata": {},
   "outputs": [
    {
     "name": "stdout",
     "output_type": "stream",
     "text": [
      "[0.0011935  0.00115025 0.00138754 ... 0.00177365 0.00147779 0.00126689]\n"
     ]
    }
   ],
   "source": [
    "#modify the array to remove exceeding values than threshold\n",
    "modif_short_line = short_line[short_line < thres]\n",
    "print(modif_short_line)"
   ]
  },
  {
   "cell_type": "code",
   "execution_count": 58,
   "metadata": {},
   "outputs": [
    {
     "name": "stdout",
     "output_type": "stream",
     "text": [
      "0.0014582294\n"
     ]
    }
   ],
   "source": [
    "modif_mn = np.mean(modif_short_line)\n",
    "print(modif_mn)"
   ]
  },
  {
   "cell_type": "code",
   "execution_count": 59,
   "metadata": {},
   "outputs": [
    {
     "name": "stdout",
     "output_type": "stream",
     "text": [
      "0.0002801906\n"
     ]
    }
   ],
   "source": [
    "modif_std = np.std(modif_short_line)\n",
    "print(modif_std)"
   ]
  },
  {
   "cell_type": "code",
   "execution_count": 61,
   "metadata": {},
   "outputs": [
    {
     "name": "stdout",
     "output_type": "stream",
     "text": [
      "0.0022988012060523033\n"
     ]
    }
   ],
   "source": [
    "thres = modif_mn + 3*modif_std\n",
    "print(thres)"
   ]
  },
  {
   "cell_type": "code",
   "execution_count": 9,
   "metadata": {},
   "outputs": [],
   "source": [
    "short = data"
   ]
  },
  {
   "cell_type": "code",
   "execution_count": null,
   "metadata": {},
   "outputs": [],
   "source": []
  },
  {
   "cell_type": "markdown",
   "metadata": {},
   "source": [
    "# Method 2 - Checking each point greater than given value and eleminating it if not max of the focus array"
   ]
  },
  {
   "cell_type": "markdown",
   "metadata": {},
   "source": [
    "   #  Give value of V"
   ]
  },
  {
   "cell_type": "code",
   "execution_count": 7,
   "metadata": {
    "scrolled": true
   },
   "outputs": [
    {
     "name": "stdout",
     "output_type": "stream",
     "text": [
      "Given minimum value:  0.00229\n"
     ]
    }
   ],
   "source": [
    "V = 0.00229                                                                                   #the minima value\n",
    "print('Given minimum value: ', V)"
   ]
  },
  {
   "cell_type": "code",
   "execution_count": 10,
   "metadata": {},
   "outputs": [],
   "source": [
    "length = len(short)\n",
    "store_arr = np.zeros(length*length*3)\n"
   ]
  },
  {
   "cell_type": "code",
   "execution_count": 67,
   "metadata": {},
   "outputs": [
    {
     "name": "stdout",
     "output_type": "stream",
     "text": [
      "0.0051755174 at point: 304 , 268\n",
      "0.0056848945 at point: 305 , 261\n",
      "0.005186722 at point: 305 , 262\n",
      "0.005409304 at point: 305 , 264\n",
      "0.005903028 at point: 305 , 265\n",
      "0.0052252254 at point: 305 , 266\n",
      "0.005673631 at point: 305 , 267\n",
      "0.0054455446 at point: 305 , 268\n",
      "0.0051717935 at point: 305 , 270\n",
      "0.0062680375 at point: 306 , 262\n",
      "0.006041479 at point: 306 , 263\n",
      "0.0061305445 at point: 306 , 264\n",
      "0.0059931506 at point: 306 , 265\n",
      "0.0064414414 at point: 306 , 266\n",
      "0.0071145534 at point: 306 , 267\n",
      "0.0054915375 at point: 306 , 268\n",
      "0.005322988 at point: 307 , 260\n",
      "0.006990799 at point: 307 , 261\n",
      "0.007034632 at point: 307 , 262\n",
      "0.0077096485 at point: 307 , 263\n",
      "0.0075730258 at point: 307 , 264\n",
      "0.007795602 at point: 307 , 265\n",
      "0.007657658 at point: 307 , 266\n",
      "0.007295983 at point: 307 , 267\n",
      "0.006482982 at point: 307 , 268\n",
      "0.0061656167 at point: 307 , 269\n",
      "0.005803491 at point: 307 , 270\n",
      "0.007126105 at point: 308 , 260\n",
      "0.00712482 at point: 308 , 261\n",
      "0.008477634 at point: 308 , 262\n",
      "0.008476105 at point: 308 , 263\n",
      "0.011720159 at point: 308 , 264\n",
      "0.009780061 at point: 308 , 265\n",
      "0.010136962 at point: 308 , 266\n",
      "0.008466943 at point: 308 , 267\n",
      "0.008103727 at point: 308 , 268\n",
      "0.006796903 at point: 308 , 269\n",
      "0.0065694745 at point: 308 , 270\n",
      "0.0055325655 at point: 308 , 271\n",
      "0.005439669 at point: 308 , 272\n",
      "0.0060425685 at point: 309 , 258\n",
      "0.007665945 at point: 309 , 259\n",
      "0.007981602 at point: 309 , 260\n",
      "0.011273448 at point: 309 , 261\n",
      "0.012536075 at point: 309 , 262\n",
      "0.015557359 at point: 309 , 263\n",
      "0.0150586115 at point: 309 , 264\n",
      "0.014872904 at point: 309 , 265\n",
      "0.014326906 at point: 309 , 266\n",
      "0.010855855 at point: 309 , 267\n",
      "0.010131484 at point: 309 , 268\n",
      "0.0072470293 at point: 309 , 269\n",
      "0.0071557155 at point: 309 , 270\n",
      "0.0057135145 at point: 309 , 271\n",
      "0.0051379125 at point: 310 , 256\n",
      "0.006355932 at point: 310 , 257\n",
      "0.0064460873 at point: 310 , 258\n",
      "0.010234445 at point: 310 , 259\n",
      "0.011091073 at point: 310 , 260\n",
      "0.018575294 at point: 310 , 261\n",
      "0.025523089 at point: 310 , 262\n",
      "0.029265873 at point: 310 , 263\n",
      "0.03065825 at point: 310 , 264\n",
      "0.030021638 at point: 310 , 265\n",
      "0.02388248 at point: 310 , 266\n",
      "0.017207207 at point: 310 , 267\n",
      "0.013913905 at point: 310 , 268\n",
      "0.010714929 at point: 310 , 269\n",
      "0.0068869283 at point: 310 , 270\n",
      "0.00674946 at point: 310 , 271\n",
      "0.005992071 at point: 311 , 256\n",
      "0.007840663 at point: 311 , 257\n",
      "0.010726519 at point: 311 , 258\n",
      "0.014557418 at point: 311 , 259\n",
      "0.025558962 at point: 311 , 260\n",
      "0.04111071 at point: 311 , 261\n",
      "0.067087464 at point: 311 , 262\n",
      "0.090097405 at point: 311 , 263\n",
      "0.09801623 at point: 311 , 264\n",
      "0.08560224 at point: 311 , 265\n",
      "0.056101296 at point: 311 , 266\n",
      "0.034594595 at point: 311 , 267\n",
      "0.01981625 at point: 311 , 268\n",
      "0.0127431555 at point: 311 , 269\n",
      "0.008914101 at point: 311 , 270\n",
      "0.005670567 at point: 311 , 271\n",
      "0.0064783157 at point: 311 , 272\n",
      "0.005404432 at point: 312 , 255\n",
      "0.006395244 at point: 312 , 256\n",
      "0.008198198 at point: 312 , 257\n",
      "0.012299513 at point: 312 , 258\n",
      "0.022710888 at point: 312 , 259\n",
      "0.05542538 at point: 312 , 260\n",
      "0.116504416 at point: 312 , 261\n",
      "0.20618464 at point: 312 , 262\n",
      "0.30048683 at point: 312 , 263\n",
      "0.33014786 at point: 312 , 264\n",
      "0.2768163 at point: 312 , 265\n",
      "0.17222422 at point: 312 , 266\n",
      "0.083438456 at point: 312 , 267\n",
      "0.037882883 at point: 312 , 268\n",
      "0.017699514 at point: 312 , 269\n",
      "0.010987031 at point: 312 , 270\n",
      "0.0074270796 at point: 312 , 271\n",
      "0.0051736548 at point: 312 , 273\n",
      "0.0064379615 at point: 313 , 256\n",
      "0.009681196 at point: 313 , 257\n",
      "0.015267519 at point: 313 , 258\n",
      "0.038288288 at point: 313 , 259\n",
      "0.09983781 at point: 313 , 260\n",
      "0.2494142 at point: 313 , 261\n",
      "0.52960527 at point: 313 , 262\n",
      "0.8119704 at point: 313 , 263\n",
      "0.9403281 at point: 313 , 264\n",
      "0.7711826 at point: 313 , 265\n",
      "0.46570837 at point: 313 , 266\n",
      "0.20138764 at point: 313 , 267\n",
      "0.07267075 at point: 313 , 268\n",
      "0.027612614 at point: 313 , 269\n",
      "0.011844712 at point: 313 , 270\n",
      "0.0081937695 at point: 313 , 271\n",
      "0.0054024854 at point: 313 , 272\n",
      "0.0063444925 at point: 314 , 255\n",
      "0.0057145427 at point: 314 , 256\n",
      "0.010397911 at point: 314 , 257\n",
      "0.019358905 at point: 314 , 258\n",
      "0.044713616 at point: 314 , 259\n",
      "0.14618987 at point: 314 , 260\n",
      "0.41175675 at point: 314 , 261\n",
      "0.93579924 at point: 314 , 262\n",
      "1.616123 at point: 314 , 263\n",
      "1.942637 at point: 314 , 264\n",
      "1.6418079 at point: 314 , 265\n",
      "0.94520545 at point: 314 , 266\n",
      "0.39356524 at point: 314 , 267\n",
      "0.13682646 at point: 314 , 268\n",
      "0.04 at point: 314 , 269\n",
      "0.016666668 at point: 314 , 270\n",
      "0.008602054 at point: 314 , 271\n",
      "0.005673631 at point: 314 , 272\n",
      "0.0074680583 at point: 315 , 256\n",
      "0.008909287 at point: 315 , 257\n",
      "0.01782499 at point: 315 , 258\n",
      "0.049072575 at point: 315 , 259\n",
      "0.14445245 at point: 315 , 260\n",
      "0.46126825 at point: 315 , 261\n",
      "1.1408559 at point: 315 , 262\n",
      "2.078843 at point: 315 , 263\n",
      "2.683907 at point: 315 , 264\n",
      "2.36761 at point: 315 , 265\n",
      "1.3752704 at point: 315 , 266\n",
      "0.556597 at point: 315 , 267\n",
      "0.17826244 at point: 315 , 268\n",
      "0.055190124 at point: 315 , 269\n",
      "0.016985042 at point: 315 , 270\n",
      "0.007972973 at point: 315 , 271\n",
      "0.006756757 at point: 315 , 272\n",
      "0.005441626 at point: 316 , 255\n",
      "0.006747031 at point: 316 , 256\n",
      "0.008997661 at point: 316 , 257\n",
      "0.01489649 at point: 316 , 258\n",
      "0.037277147 at point: 316 , 259\n",
      "0.114283144 at point: 316 , 260\n",
      "0.3534048 at point: 316 , 261\n",
      "0.91306305 at point: 316 , 262\n",
      "1.773698 at point: 316 , 263\n",
      "2.4045324 at point: 316 , 264\n",
      "2.1990356 at point: 316 , 265\n",
      "1.291907 at point: 316 , 266\n",
      "0.533757 at point: 316 , 267\n",
      "0.17716783 at point: 316 , 268\n",
      "0.056371666 at point: 316 , 269\n",
      "0.01892574 at point: 316 , 270\n",
      "0.0090106325 at point: 316 , 271\n",
      "0.0064426023 at point: 316 , 272\n",
      "0.0056654676 at point: 317 , 255\n",
      "0.005711459 at point: 317 , 256\n",
      "0.0070181754 at point: 317 , 257\n",
      "0.011294097 at point: 317 , 258\n",
      "0.02574721 at point: 317 , 259\n",
      "0.067711145 at point: 317 , 260\n",
      "0.20262969 at point: 317 , 261\n",
      "0.49473068 at point: 317 , 262\n",
      "0.96882886 at point: 317 , 263\n",
      "1.3335285 at point: 317 , 264\n",
      "1.2563086 at point: 317 , 265\n",
      "0.77041274 at point: 317 , 266\n",
      "0.34252748 at point: 317 , 267\n",
      "0.12249865 at point: 317 , 268\n",
      "0.044348296 at point: 317 , 269\n",
      "0.01739679 at point: 317 , 270\n",
      "0.0075716604 at point: 317 , 271\n",
      "0.005767844 at point: 317 , 272\n",
      "0.0052598454 at point: 318 , 255\n",
      "0.005801403 at point: 318 , 256\n",
      "0.008006477 at point: 318 , 257\n",
      "0.01012419 at point: 318 , 258\n",
      "0.018095067 at point: 318 , 259\n",
      "0.037952457 at point: 318 , 260\n",
      "0.09217399 at point: 318 , 261\n",
      "0.19838768 at point: 318 , 262\n",
      "0.36288288 at point: 318 , 263\n",
      "0.4935574 at point: 318 , 264\n",
      "0.46850216 at point: 318 , 265\n",
      "0.31728864 at point: 318 , 266\n",
      "0.17057338 at point: 318 , 267\n",
      "0.073250994 at point: 318 , 268\n",
      "0.030382257 at point: 318 , 269\n",
      "0.014740353 at point: 318 , 270\n",
      "0.008294266 at point: 318 , 271\n",
      "0.005349757 at point: 319 , 256\n",
      "0.0074653714 at point: 319 , 257\n",
      "0.008997661 at point: 319 , 258\n",
      "0.012736274 at point: 319 , 259\n",
      "0.021651063 at point: 319 , 260\n",
      "0.03822258 at point: 319 , 261\n",
      "0.0751531 at point: 319 , 262\n",
      "0.11443884 at point: 319 , 263\n",
      "0.15247747 at point: 319 , 264\n",
      "0.147459 at point: 319 , 265\n",
      "0.116708726 at point: 319 , 266\n",
      "0.075040564 at point: 319 , 267\n",
      "0.039345592 at point: 319 , 268\n",
      "0.018523525 at point: 319 , 269\n",
      "0.010411033 at point: 319 , 270\n",
      "0.006399856 at point: 319 , 271\n",
      "0.005753326 at point: 320 , 256\n",
      "0.006160072 at point: 320 , 257\n",
      "0.007511695 at point: 320 , 258\n",
      "0.0086843055 at point: 320 , 259\n",
      "0.013233705 at point: 320 , 260\n",
      "0.018953718 at point: 320 , 261\n",
      "0.028773416 at point: 320 , 262\n",
      "0.036885247 at point: 320 , 263\n",
      "0.044901818 at point: 320 , 264\n",
      "0.048243243 at point: 320 , 265\n",
      "0.039684683 at point: 320 , 266\n",
      "0.03252838 at point: 320 , 267\n",
      "0.021535411 at point: 320 , 268\n",
      "0.012704992 at point: 320 , 269\n",
      "0.009190845 at point: 320 , 270\n",
      "0.0067129214 at point: 320 , 271\n",
      "0.005212078 at point: 321 , 256\n",
      "0.005439669 at point: 321 , 257\n",
      "0.006520957 at point: 321 , 258\n",
      "0.009402555 at point: 321 , 259\n",
      "0.009810981 at point: 321 , 260\n",
      "0.012333454 at point: 321 , 261\n",
      "0.014046461 at point: 321 , 262\n",
      "0.017381124 at point: 321 , 263\n",
      "0.018867075 at point: 321 , 264\n",
      "0.018146614 at point: 321 , 265\n",
      "0.01760944 at point: 321 , 266\n",
      "0.014501891 at point: 321 , 267\n",
      "0.0117546385 at point: 321 , 268\n",
      "0.0077899857 at point: 321 , 269\n",
      "0.005898775 at point: 321 , 270\n",
      "0.005527593 at point: 322 , 257\n",
      "0.005350719 at point: 322 , 258\n",
      "0.0061173085 at point: 322 , 259\n",
      "0.008639309 at point: 322 , 260\n",
      "0.010036004 at point: 322 , 261\n",
      "0.010713 at point: 322 , 262\n",
      "0.010039618 at point: 322 , 263\n",
      "0.012290654 at point: 322 , 264\n",
      "0.011345219 at point: 322 , 265\n",
      "0.010264722 at point: 322 , 266\n",
      "0.008283811 at point: 322 , 267\n",
      "0.007157004 at point: 322 , 268\n",
      "0.0065268273 at point: 322 , 269\n",
      "0.005806626 at point: 322 , 270\n",
      "0.0055265995 at point: 323 , 257\n",
      "0.0053487956 at point: 323 , 258\n",
      "0.005711459 at point: 323 , 259\n",
      "0.007286794 at point: 323 , 260\n",
      "0.007872953 at point: 323 , 261\n",
      "0.008234342 at point: 323 , 262\n",
      "0.0070657064 at point: 323 , 263\n",
      "0.008865886 at point: 323 , 264\n",
      "0.007380738 at point: 323 , 265\n",
      "0.0077843773 at point: 323 , 266\n",
      "0.0059395246 at point: 323 , 267\n",
      "0.0059395246 at point: 323 , 268\n",
      "0.005528587 at point: 324 , 259\n",
      "0.006294964 at point: 324 , 260\n",
      "0.007285483 at point: 324 , 262\n",
      "0.0076916157 at point: 324 , 263\n",
      "0.0061622886 at point: 324 , 264\n",
      "0.007195539 at point: 324 , 265\n",
      "0.005756431 at point: 324 , 267\n",
      "0.005620504 at point: 324 , 268\n",
      "0.005122214 at point: 325 , 259\n",
      "0.0059780655 at point: 325 , 262\n",
      "0.0060230135 at point: 325 , 263\n",
      "0.0058432217 at point: 325 , 264\n",
      "0.005528587 at point: 325 , 265\n",
      "0.005482653 at point: 325 , 267\n",
      "0.005121294 at point: 326 , 261\n",
      "0.005435759 at point: 326 , 264\n",
      "0.0052560647 at point: 326 , 265\n",
      "0.005702227 at point: 327 , 263\n",
      "0.005163434 at point: 327 , 264\n"
     ]
    }
   ],
   "source": [
    "#specify the range to be observed\n",
    "q = 0\n",
    "for i in range(0,472):                                           #taking all points above V and choosing and printing\n",
    "    for j in range(0,740):\n",
    "        if (short[i][j]>=V):\n",
    "            print(short[i][j], 'at point:', i, ',', j)\n",
    "            store_arr[q] = short[i][j]\n",
    "            q = q+1\n",
    "            store_arr[q] = i\n",
    "            q = q+1\n",
    "            store_arr[q] = j\n",
    "            q = q+1\n",
    "            \n"
   ]
  },
  {
   "cell_type": "code",
   "execution_count": 11,
   "metadata": {},
   "outputs": [
    {
     "name": "stdout",
     "output_type": "stream",
     "text": [
      "[0. 0. 0. 0. 0. 0. 0. 0. 0. 0. 0. 0. 0. 0. 0. 0. 0. 0. 0. 0. 0. 0. 0. 0.\n",
      " 0. 0. 0. 0. 0. 0.]\n"
     ]
    }
   ],
   "source": [
    "#check\n",
    "print(store_arr[0:30])"
   ]
  },
  {
   "cell_type": "code",
   "execution_count": 12,
   "metadata": {},
   "outputs": [
    {
     "name": "stdout",
     "output_type": "stream",
     "text": [
      "Point chosen: 0 0 with value nan\n"
     ]
    }
   ],
   "source": [
    "a = int(store_arr[1])\n",
    "b = int(store_arr[2])\n",
    "print ('Point chosen:', a,b, 'with value', short[a][b])\n"
   ]
  },
  {
   "cell_type": "markdown",
   "metadata": {},
   "source": [
    "# Set the value N"
   ]
  },
  {
   "cell_type": "code",
   "execution_count": 13,
   "metadata": {},
   "outputs": [
    {
     "name": "stdout",
     "output_type": "stream",
     "text": [
      "Focus \n",
      " [[nan nan nan]\n",
      " [nan nan nan]\n",
      " [nan nan nan]]\n",
      "\n",
      " nan\n"
     ]
    }
   ],
   "source": [
    "#set focus matrix to zero and then take values with chosen point at centre\n",
    "N = 1\n",
    "t = 2*N+1\n",
    "\n",
    "focus = np.zeros((t, t))                             \n",
    "\n",
    "for i in range(0,t):\n",
    "    for j in range(0,t):\n",
    "        focus[i][j] = short [a-N+i][b-N+j]\n",
    "        \n",
    "print('Focus \\n',focus)\n",
    "\n",
    "r = max(map(max, focus))\n",
    "print('\\n',r)"
   ]
  },
  {
   "cell_type": "code",
   "execution_count": 14,
   "metadata": {},
   "outputs": [
    {
     "ename": "IndexError",
     "evalue": "index 668353 is out of bounds for axis 0 with size 668352",
     "output_type": "error",
     "traceback": [
      "\u001b[1;31m---------------------------------------------------------------------------\u001b[0m",
      "\u001b[1;31mIndexError\u001b[0m                                Traceback (most recent call last)",
      "\u001b[1;32m<ipython-input-14-b87869909bde>\u001b[0m in \u001b[0;36m<module>\u001b[1;34m\u001b[0m\n\u001b[0;32m      4\u001b[0m \u001b[1;32mwhile\u001b[0m\u001b[1;33m(\u001b[0m\u001b[0mfocus\u001b[0m\u001b[1;33m[\u001b[0m\u001b[0mN\u001b[0m\u001b[1;33m]\u001b[0m\u001b[1;33m[\u001b[0m\u001b[0mN\u001b[0m\u001b[1;33m]\u001b[0m \u001b[1;33m!=\u001b[0m \u001b[0mr\u001b[0m\u001b[1;33m)\u001b[0m\u001b[1;33m:\u001b[0m\u001b[1;33m\u001b[0m\u001b[1;33m\u001b[0m\u001b[0m\n\u001b[0;32m      5\u001b[0m \u001b[1;33m\u001b[0m\u001b[0m\n\u001b[1;32m----> 6\u001b[1;33m     \u001b[0ma\u001b[0m \u001b[1;33m=\u001b[0m \u001b[0mint\u001b[0m\u001b[1;33m(\u001b[0m\u001b[0mstore_arr\u001b[0m\u001b[1;33m[\u001b[0m\u001b[1;36m1\u001b[0m\u001b[1;33m+\u001b[0m\u001b[1;33m(\u001b[0m\u001b[1;36m3\u001b[0m\u001b[1;33m*\u001b[0m\u001b[0ml\u001b[0m\u001b[1;33m)\u001b[0m\u001b[1;33m]\u001b[0m\u001b[1;33m)\u001b[0m\u001b[1;33m\u001b[0m\u001b[1;33m\u001b[0m\u001b[0m\n\u001b[0m\u001b[0;32m      7\u001b[0m     \u001b[0mb\u001b[0m \u001b[1;33m=\u001b[0m \u001b[0mint\u001b[0m\u001b[1;33m(\u001b[0m\u001b[0mstore_arr\u001b[0m\u001b[1;33m[\u001b[0m\u001b[1;36m2\u001b[0m\u001b[1;33m+\u001b[0m\u001b[1;33m(\u001b[0m\u001b[1;36m3\u001b[0m\u001b[1;33m*\u001b[0m\u001b[0ml\u001b[0m\u001b[1;33m)\u001b[0m\u001b[1;33m]\u001b[0m\u001b[1;33m)\u001b[0m\u001b[1;33m\u001b[0m\u001b[1;33m\u001b[0m\u001b[0m\n\u001b[0;32m      8\u001b[0m \u001b[1;31m#    print ('Point chosen:', a,b, 'with value', short[a][b])\u001b[0m\u001b[1;33m\u001b[0m\u001b[1;33m\u001b[0m\u001b[1;33m\u001b[0m\u001b[0m\n",
      "\u001b[1;31mIndexError\u001b[0m: index 668353 is out of bounds for axis 0 with size 668352"
     ]
    }
   ],
   "source": [
    "#While loop starts to scan over the short array\n",
    "\n",
    "l = 0\n",
    "while(focus[N][N] != r):\n",
    "    \n",
    "    a = int(store_arr[1+(3*l)])\n",
    "    b = int(store_arr[2+(3*l)])\n",
    "#    print ('Point chosen:', a,b, 'with value', short[a][b])\n",
    "\n",
    "    focus = np.zeros((t, t))                             \n",
    "\n",
    "    for i in range(0,t):\n",
    "        for j in range(0,t):\n",
    "            focus[i][j] = short [a-N+i][b-N+j]\n",
    "\n",
    "#    print('Focus \\n',focus)\n",
    "\n",
    "    r = max(map(max, focus))\n",
    "#    print('\\n',r)\n",
    "    l = l+1\n",
    "    \n",
    "print('New Focus \\n',focus)"
   ]
  },
  {
   "cell_type": "code",
   "execution_count": 76,
   "metadata": {},
   "outputs": [
    {
     "name": "stdout",
     "output_type": "stream",
     "text": [
      "Position of the point in Short Matrix:  315 264\n",
      "Sum of all values :  43.71127034910023\n",
      "Centroid is at (315.1688695621881, 264.11096682043825)\n"
     ]
    }
   ],
   "source": [
    "#Final results \n",
    "\n",
    "print('Position of the point in Short Matrix: ', a, b)\n",
    "Sum = focus.sum()\n",
    "print('Sum of all values : ', Sum)\n",
    "Centroid = ndimage.measurements.center_of_mass(focus)\n",
    "cen_result = tuple(map(sum, zip(Centroid, (a-N,b-N))))\n",
    "print('Centroid is at', cen_result)"
   ]
  },
  {
   "cell_type": "code",
   "execution_count": null,
   "metadata": {},
   "outputs": [],
   "source": []
  },
  {
   "cell_type": "code",
   "execution_count": null,
   "metadata": {},
   "outputs": [],
   "source": []
  },
  {
   "cell_type": "code",
   "execution_count": null,
   "metadata": {},
   "outputs": [],
   "source": []
  },
  {
   "cell_type": "code",
   "execution_count": null,
   "metadata": {},
   "outputs": [],
   "source": []
  },
  {
   "cell_type": "code",
   "execution_count": null,
   "metadata": {},
   "outputs": [],
   "source": []
  }
 ],
 "metadata": {
  "kernelspec": {
   "display_name": "Python 3",
   "language": "python",
   "name": "python3"
  },
  "language_info": {
   "codemirror_mode": {
    "name": "ipython",
    "version": 3
   },
   "file_extension": ".py",
   "mimetype": "text/x-python",
   "name": "python",
   "nbconvert_exporter": "python",
   "pygments_lexer": "ipython3",
   "version": "3.9.0"
  }
 },
 "nbformat": 4,
 "nbformat_minor": 4
}
